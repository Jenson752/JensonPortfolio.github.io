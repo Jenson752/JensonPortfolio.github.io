{
 "cells": [
  {
   "cell_type": "code",
   "execution_count": 18,
   "metadata": {},
   "outputs": [],
   "source": [
    "import roboflow"
   ]
  },
  {
   "cell_type": "code",
   "execution_count": 19,
   "metadata": {},
   "outputs": [
    {
     "name": "stdout",
     "output_type": "stream",
     "text": [
      "visit https://app.roboflow.com/auth-cli to get your authentication token.\n"
     ]
    }
   ],
   "source": [
    "roboflow.login(force=True)"
   ]
  },
  {
   "cell_type": "code",
   "execution_count": 20,
   "metadata": {},
   "outputs": [],
   "source": [
    "rf = roboflow.Roboflow()"
   ]
  },
  {
   "cell_type": "code",
   "execution_count": 21,
   "metadata": {},
   "outputs": [
    {
     "name": "stdout",
     "output_type": "stream",
     "text": [
      "loading Roboflow workspace...\n",
      "loading Roboflow project...\n"
     ]
    }
   ],
   "source": [
    "workspace = rf.workspace(\"fyp-projects-ttk43\")\n",
    "project = workspace.project(\"accident-detection-xymwp\")"
   ]
  },
  {
   "cell_type": "code",
   "execution_count": 22,
   "metadata": {},
   "outputs": [],
   "source": [
    "# Load best.pt\n",
    "yolov8_improved_train_path  = 'C:\\\\Users\\\\User\\\\OneDrive - Asia Pacific University\\\\APU\\\\Year 3\\\\FYP\\\\FYP_notebooks\\\\Model_Training\\\\yolov8n_model\\\\v8n_model_building\\\\train_ds2_'"
   ]
  },
  {
   "cell_type": "code",
   "execution_count": 23,
   "metadata": {},
   "outputs": [
    {
     "name": "stdout",
     "output_type": "stream",
     "text": [
      "View the status of your deployment at: https://app.roboflow.com/fyp-projects-ttk43/accident-detection-xymwp/1\n",
      "Share your model with the world at: https://universe.roboflow.com/fyp-projects-ttk43/accident-detection-xymwp/model/1\n"
     ]
    }
   ],
   "source": [
    "version = project.version(1)\n",
    "\n",
    "version.deploy(\"yolov8\", model_path=yolov8_improved_train_path)"
   ]
  }
 ],
 "metadata": {
  "kernelspec": {
   "display_name": "fyp_env_v01",
   "language": "python",
   "name": "python3"
  },
  "language_info": {
   "codemirror_mode": {
    "name": "ipython",
    "version": 3
   },
   "file_extension": ".py",
   "mimetype": "text/x-python",
   "name": "python",
   "nbconvert_exporter": "python",
   "pygments_lexer": "ipython3",
   "version": "3.10.14"
  }
 },
 "nbformat": 4,
 "nbformat_minor": 2
}
